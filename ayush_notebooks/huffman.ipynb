{
 "cells": [
  {
   "cell_type": "code",
   "execution_count": 2,
   "metadata": {},
   "outputs": [
    {
     "name": "stdout",
     "output_type": "stream",
     "text": [
      "Original: 18352 bits\n",
      "Huffman: 9349 bits\n"
     ]
    }
   ],
   "source": [
    "import heapq\n",
    "from collections import Counter\n",
    "\n",
    "class Node:\n",
    "    def __init__(self, char, freq, left=None, right=None):\n",
    "        self.char = char\n",
    "        self.freq = freq\n",
    "        self.left = left\n",
    "        self.right = right\n",
    "    \n",
    "    def __lt__(self, other):\n",
    "        return self.freq < other.freq\n",
    "\n",
    "def build_tree(text):\n",
    "    freq = Counter(text)\n",
    "    heap = [Node(char, f) for char, f in freq.items()]\n",
    "    heapq.heapify(heap)\n",
    "    \n",
    "    while len(heap) > 1:\n",
    "        left = heapq.heappop(heap)\n",
    "        right = heapq.heappop(heap)\n",
    "        parent = Node(None, left.freq + right.freq, left, right)\n",
    "        heapq.heappush(heap, parent)\n",
    "    \n",
    "    return heap[0]\n",
    "\n",
    "def get_codes(node, prefix=\"\", codes={}):\n",
    "    if node.char:\n",
    "        codes[node.char] = prefix or \"0\"\n",
    "    else:\n",
    "        get_codes(node.left, prefix + \"0\", codes)\n",
    "        get_codes(node.right, prefix + \"1\", codes)\n",
    "    return codes\n",
    "\n",
    "def huffman_encode(text):\n",
    "    tree = build_tree(text)\n",
    "    codes = get_codes(tree)\n",
    "    encoded = \"\".join(codes[c] for c in text)\n",
    "    return encoded, codes\n",
    "\n",
    "# Usage\n",
    "text = \"The little prince said that the little fox told the little prince about the rose, and the rose was special because the little prince had tamed the rose, and taming means creating ties, and the little prince understood that the rose was unique among all the roses in the world because the little prince had spent time with the rose, watering the rose and protecting the rose from the wind, and the little prince realized that what makes the desert beautiful is that somewhere it hides a well, and what makes the stars beautiful is the invisible flower that blooms somewhere among them, and the little prince learned that it is only with the heart that one can see rightly, because what is essential is invisible to the eye, and the fox said to the little prince that the time the little prince had spent with the rose made the rose important, and the little prince would forever be responsible for the rose because the little prince had tamed the rose, and the baobabs must be pulled up as soon as they can be distinguished from the rosebushes, because if the baobabs grow too large they will destroy the little prince's planet, and the little prince visited many planets including the planet of the king who claimed to rule over everything, and the planet of the conceited man who wanted everyone to admire him, and the planet of the drunkard who drank to forget that he was ashamed of drinking, and the planet of the businessman who counted the stars and claimed to own them, and the planet of the lamplighter who faithfully lit and extinguished his lamp even though his planet spun faster and faster, and the narrator met the little prince in the desert when the narrator's plane crashed, and the narrator drew pictures for the little prince including a sheep in a box because the little prince wanted a sheep to eat the baobabs but not to eat the rose with thorns, and the little prince asked the narrator to draw a muzzle for the sheep so the sheep could not eat the rose, and eventually the little prince returned to his planet by allowing the snake to bite him, and the narrator still looks up at the stars wondering if the sheep has eaten the rose or if the rose is safe behind her glass globe, and the narrator tells us that all grown-ups were once children but few of them remember it.\"\n",
    "encoded, codes = huffman_encode(text)\n",
    "print(f\"Original: {len(text)*8} bits\")\n",
    "print(f\"Huffman: {len(encoded)} bits\")"
   ]
  },
  {
   "cell_type": "code",
   "execution_count": null,
   "metadata": {},
   "outputs": [],
   "source": []
  }
 ],
 "metadata": {
  "kernelspec": {
   "display_name": "ai2thor",
   "language": "python",
   "name": "python3"
  },
  "language_info": {
   "codemirror_mode": {
    "name": "ipython",
    "version": 3
   },
   "file_extension": ".py",
   "mimetype": "text/x-python",
   "name": "python",
   "nbconvert_exporter": "python",
   "pygments_lexer": "ipython3",
   "version": "3.9.16"
  },
  "orig_nbformat": 4
 },
 "nbformat": 4,
 "nbformat_minor": 2
}
